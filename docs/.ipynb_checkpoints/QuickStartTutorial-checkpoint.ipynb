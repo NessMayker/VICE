{
 "cells": [
  {
   "cell_type": "markdown",
   "metadata": {},
   "source": [
    "Quick Start Tutorial\n",
    "==\n",
    "This is intended to show users how to get VICE up and running to answer their research questions as quickly as possible. VICE makes it trivially easy for users to specify their own nucleosynthetic yields for various elements from core-collapse and type Ia supernovae, gas outflows, outflow metallicities, delay-time distributions for type Ia supernovae, star formation efficiencies, inflow metallicities, and even more yet. VICE even allows many of these parameters to be arbitrary mathematical functions that the user has coded into python. Depending on the parameter, they will be interpreted as functions of time in Gyr or metallicity by mass Z. \n",
    "\n",
    "In this manner, VICE achieves the capability of simulating single-zone galactic chemical evolution models for arbitrarily complex parameter spaces. \n",
    "\n",
    "We'll start with the most scientifically powerful feature: running simulations. VICE implements this via the singlezone class. "
   ]
  },
  {
   "cell_type": "markdown",
   "metadata": {},
   "source": [
    "The singlezone Class\n",
    "==\n",
    "VICE's primary function is to run simulations of chemical enrichment in galaxies under the single-zone approximation, and this is implemented in the singlezone class. Its parameters detail the evolution of the galaxy, while the function run() will run the simulation. "
   ]
  },
  {
   "cell_type": "code",
   "execution_count": 1,
   "metadata": {
    "collapsed": false
   },
   "outputs": [
    {
     "name": "stdout",
     "output_type": "stream",
     "text": [
      "Current Settings:\n",
      "=================\n",
      "tau_ia ---------> 1.5\n",
      "recycling ------> continuous\n",
      "z_solar --------> 0.014\n",
      "enhancement ----> 1.0\n",
      "agb_model ------> cristallo11\n",
      "ria ------------> plaw\n",
      "delay ----------> 0.15\n",
      "imf ------------> kroupa\n",
      "smoothing ------> 0.0\n",
      "schmidt_index --> 0.5\n",
      "eta ------------> 2.5\n",
      "zin ------------> 0.0\n",
      "schmidt --------> False\n",
      "elements -------> (u'fe', u'sr', u'o')\n",
      "MgSchmidt ------> 6000000000.0\n",
      "func -----------> <function _DEFAULT_FUNC at 0x10f3220c8>\n",
      "dt -------------> 0.01\n",
      "tau_star -------> 2.0\n",
      "name -----------> onezonemodel\n",
      "m_lower --------> 0.08\n",
      "m_upper --------> 100.0\n",
      "Mg0 ------------> 6000000000.0\n",
      "mode -----------> ifr\n",
      "bins -----------> [-3, -2.95, -2.9, ... , 0.9, 0.95, 1]\n"
     ]
    }
   ],
   "source": [
    "from __future__ import print_function \n",
    "import numpy as np # we'll use numpy for the demonstration, but VICE does not need it \n",
    "import vice \n",
    "sz = vice.singlezone()\n",
    "sz.settings() # Just prints the current settings"
   ]
  },
  {
   "cell_type": "markdown",
   "metadata": {},
   "source": [
    "Each integrator has attributes which encode the evolutionary parameters that dictate how the galaxy will evolve. VICE then determines its enrichment history. Each attribute's docstring provides details on what it represents physically. The most important attributes are func and mode - in short, func is some functional form for the time-evolution of the galaxy's infall rate, star formation rate, or gas supply, and mode specifies which one it is. "
   ]
  },
  {
   "cell_type": "code",
   "execution_count": 2,
   "metadata": {
    "collapsed": true
   },
   "outputs": [],
   "source": [
    "sz.func?"
   ]
  },
  {
   "cell_type": "code",
   "execution_count": 3,
   "metadata": {
    "collapsed": true
   },
   "outputs": [],
   "source": [
    "sz.mode?"
   ]
  },
  {
   "cell_type": "markdown",
   "metadata": {},
   "source": [
    "Now let's run the integrator! The run() function requires an array-like object of times in Gyr at which it is supposed to record output. The np.linspace(0, 10, 1001) call is simply an array from 0 to 10 in steps of 0.01 - meaning that VICE will write output at every 10 Myr intervals. \n",
    "\n",
    "Note: This function will ask for permission to overwrite existing files if they're found unless the user specifies overwrite = True as a keyword argument. "
   ]
  },
  {
   "cell_type": "code",
   "execution_count": 5,
   "metadata": {
    "collapsed": false
   },
   "outputs": [
    {
     "name": "stdout",
     "output_type": "stream",
     "text": [
      "At least one of the output files already exists. If you continue with the integration, then their contents will be lost.\n",
      "Output directory: onezonemodel.vice\n",
      "Overwrite? (y | n) y\n"
     ]
    }
   ],
   "source": [
    "sz.run(np.linspace(0, 10, 1001))"
   ]
  },
  {
   "cell_type": "markdown",
   "metadata": {},
   "source": [
    "And that's it! "
   ]
  },
  {
   "cell_type": "markdown",
   "metadata": {},
   "source": [
    "How to Read in the Results of your Simulations\n",
    "==\n",
    "When the user runs a VICE integrator, the output is stored in a directory under the integrator's name with a '.vice' extension. If the output directory does not exist, it will automatically make one. The user need not interact with any of these files directly - VICE has built-in functions designed specifically for reading in the output. They are the history() and mdf() functions as well as the output object. \n",
    "\n",
    "Within each VICE output are files under the name of \"history.out\" and \"mdf.out\". They hold the time-evolution of the ISM metallicity and the stellar metallicity distribution at the final timestep. The history() and mdf() functions read them in. Alternatively, the output object automatically reads in both of them along with copies of the yield settings at the time the simulation was ran.\n",
    "\n",
    "While the output is simply a directory, adding a '.vice' extension allows users to manipulate all VICE outputs in a given directory via *.vice from the command line. Rather than zipping these contents into a file that can only be read by VICE in python, we leave it as a directory so that users may open the output files in programming languages other than python. "
   ]
  },
  {
   "cell_type": "code",
   "execution_count": 6,
   "metadata": {
    "collapsed": false
   },
   "outputs": [],
   "source": [
    "history = vice.history(\"onezonemodel\") \n",
    "mdf = vice.mdf(\"onezonemodel\")"
   ]
  },
  {
   "cell_type": "markdown",
   "metadata": {},
   "source": [
    "The history and mdf functions return instances of the VICE dataframe, which emulates a Pandas-style dataframe, but with the added advantage that it is completely case-insensitive. Users can pass strings denoting column labels or integers denoting a line number of output. "
   ]
  },
  {
   "cell_type": "code",
   "execution_count": 7,
   "metadata": {
    "collapsed": false
   },
   "outputs": [
    {
     "name": "stdout",
     "output_type": "stream",
     "text": [
      "[-0.3111779, -0.3112609, -0.3113439, -0.3114267, -0.3115094, -0.311592, -0.3116745, -0.3117569, -0.3118391, -0.3119213]\n",
      "[-0.3111779, -0.3112609, -0.3113439, -0.3114267, -0.3115094, -0.311592, -0.3116745, -0.3117569, -0.3118391, -0.3119213]\n",
      "0.0\n",
      "vice.dataframe{\n",
      "    [fe/h] ---------> -0.656567\n",
      "    z(fe) ----------> 0.000284461\n",
      "    mass(fe) -------> 1576279.0\n",
      "    [o/fe] ---------> 0.05607726\n",
      "    z_in(sr) -------> 0.0\n",
      "    z_in(fe) -------> 0.0\n",
      "    z(sr) ----------> 3.889018e-09\n",
      "    [sr/h] ---------> -1.085938\n",
      "    [sr/fe] --------> -0.4293714\n",
      "    z_out(o) -------> 0.00143518\n",
      "    mass(sr) -------> 21.55015\n",
      "    z_out(sr) ------> 3.889018e-09\n",
      "    time -----------> 1.0\n",
      "    sfr ------------> 2.770642\n",
      "    z_out(fe) ------> 0.000284461\n",
      "    eta_0 ----------> 2.5\n",
      "    [o/sr] ---------> 0.4854487\n",
      "    z(o) -----------> 0.00143518\n",
      "    [o/h] ----------> -0.6004897\n",
      "    ifr ------------> 9.1\n",
      "    z_in(o) --------> 0.0\n",
      "    ofr ------------> 6.926605\n",
      "    mgas -----------> 5541284000.0\n",
      "    r_eff ----------> 0.4156579\n",
      "    mass(o) --------> 7952739.0\n",
      "    mstar ----------> 1785906000.0\n",
      "}\n",
      "vice.dataframe{\n",
      "    dn/d[sr/h] -----> 0.0\n",
      "    dn/d[sr/fe] ----> 1.736132\n",
      "    bin_edge_left --> -0.5\n",
      "    dn/d[o/h] ------> 13.5213\n",
      "    dn/d[o/fe] -----> 0.0\n",
      "    dn/d[fe/h] -----> 0.4935118\n",
      "    bin_edge_right -> -0.45\n",
      "    dn/d[o/sr] -----> 0.0\n",
      "}\n"
     ]
    }
   ],
   "source": [
    "print(history[\"[o/fe]\"][-10:])\n",
    "print(history(\"[O/FE]\")[-10:])\n",
    "print(mdf[\"DN/d[o/fE]\"][50])\n",
    "print(history[100])\n",
    "print(mdf(50))"
   ]
  },
  {
   "cell_type": "markdown",
   "metadata": {},
   "source": [
    "Alternatively, users can initialize an output object. 'history' and 'mdf' will be stored as attributes of this class. The output object also has memory of the yield settings at the time the integrator was ran. Users can also ask the singlezone class to return an output object directly by specifying capture = True as a keyword argument."
   ]
  },
  {
   "cell_type": "code",
   "execution_count": 7,
   "metadata": {
    "collapsed": false
   },
   "outputs": [
    {
     "name": "stdout",
     "output_type": "stream",
     "text": [
      "vice.dataframe{\n",
      "    [fe/h] ---------> -0.656567\n",
      "    z(fe) ----------> 0.000284461\n",
      "    mass(fe) -------> 1576279.0\n",
      "    [o/fe] ---------> 0.05607726\n",
      "    z_in(sr) -------> 0.0\n",
      "    z_in(fe) -------> 0.0\n",
      "    z(sr) ----------> 3.889018e-09\n",
      "    [sr/h] ---------> -1.085938\n",
      "    [sr/fe] --------> -0.4293714\n",
      "    z_out(o) -------> 0.00143518\n",
      "    mass(sr) -------> 21.55015\n",
      "    z_out(sr) ------> 3.889018e-09\n",
      "    time -----------> 1.0\n",
      "    sfr ------------> 2.770642\n",
      "    z_out(fe) ------> 0.000284461\n",
      "    eta_0 ----------> 2.5\n",
      "    [o/sr] ---------> 0.4854487\n",
      "    z(o) -----------> 0.00143518\n",
      "    [o/h] ----------> -0.6004897\n",
      "    ifr ------------> 9.1\n",
      "    z_in(o) --------> 0.0\n",
      "    ofr ------------> 6.926605\n",
      "    mgas -----------> 5541284000.0\n",
      "    r_eff ----------> 0.4156579\n",
      "    mass(o) --------> 7952739.0\n",
      "    mstar ----------> 1785906000.0\n",
      "}\n",
      "vice.dataframe{\n",
      "    dn/d[sr/h] -----> 0.0\n",
      "    dn/d[sr/fe] ----> 1.736132\n",
      "    bin_edge_left --> -0.5\n",
      "    dn/d[o/h] ------> 13.5213\n",
      "    dn/d[o/fe] -----> 0.0\n",
      "    dn/d[fe/h] -----> 0.4935118\n",
      "    bin_edge_right -> -0.45\n",
      "    dn/d[o/sr] -----> 0.0\n",
      "}\n",
      "0.00564\n",
      "0.00258\n"
     ]
    }
   ],
   "source": [
    "out = vice.output(\"onezonemodel.vice/\")\n",
    "print(out.history[100])\n",
    "print(out.mdf[50])\n",
    "print(out.ccsne_yields[\"o\"])\n",
    "print(out.sneia_yields[\"fe\"])"
   ]
  },
  {
   "cell_type": "markdown",
   "metadata": {},
   "source": [
    "Rerunning Simulations\n",
    "==\n",
    "VICE allows users to reconstruct simulations given only their output. Each output has memory of the attributes of the singlezone class that produced the output, allowing the function mirror() to stitch everything together automatically to reproduce the parameters. \n",
    "\n",
    "Note: Encoding and reconstructing functional attributes in VICE requires the package 'dill' (installable via pip). If dill is not found in the user's site-packages, VICE will fill functional attributes with default parameters. "
   ]
  },
  {
   "cell_type": "code",
   "execution_count": 15,
   "metadata": {
    "collapsed": false
   },
   "outputs": [
    {
     "name": "stdout",
     "output_type": "stream",
     "text": [
      "Current Settings:\n",
      "=================\n",
      "tau_ia ---------> 1.5\n",
      "recycling ------> continuous\n",
      "z_solar --------> 0.014\n",
      "enhancement ----> 1.0\n",
      "agb_model ------> cristallo11\n",
      "ria ------------> plaw\n",
      "delay ----------> 0.15\n",
      "imf ------------> kroupa\n",
      "smoothing ------> 0.0\n",
      "schmidt_index --> 0.5\n",
      "eta ------------> 2.5\n",
      "zin ------------> 0.0\n",
      "schmidt --------> False\n",
      "elements -------> (u'fe', u'sr', u'o')\n",
      "MgSchmidt ------> 6000000000.0\n",
      "func -----------> <function _DEFAULT_FUNC at 0x10a4310c8>\n",
      "dt -------------> 0.01\n",
      "tau_star -------> 2.0\n",
      "name -----------> onezonemodel\n",
      "m_lower --------> 0.08\n",
      "m_upper --------> 100.0\n",
      "Mg0 ------------> 6000000000.0\n",
      "mode -----------> ifr\n",
      "bins -----------> [-3, -2.95, -2.9, ... , 0.9, 0.95, 1]\n"
     ]
    }
   ],
   "source": [
    "new_sz = vice.mirror(out)\n",
    "new_sz.settings() # the same as the first one"
   ]
  },
  {
   "cell_type": "markdown",
   "metadata": {},
   "source": [
    "The output object has only one function, which is called 'show'. This function wraps pyplot's show function to display the results of the simulation. This is included purely as a convenience function, allowing users to immediately inspect the output of their simulations visually without having to plot it themselves. This function takes a string as a parameter; instructions on what strings are recognized are found in the docstring. "
   ]
  },
  {
   "cell_type": "code",
   "execution_count": 8,
   "metadata": {
    "collapsed": false
   },
   "outputs": [
    {
     "data": {
      "image/png": "[encoded data removed]",
      "text/plain": [
       "<matplotlib.figure.Figure at 0x1115f0d50>"
      ]
     },
     "metadata": {},
     "output_type": "display_data"
    },
    {
     "data": {
      "image/png": "[encoded data removed]",
      "text/plain": [
       "<matplotlib.figure.Figure at 0x1115b6350>"
      ]
     },
     "metadata": {},
     "output_type": "display_data"
    },
    {
     "data": {
      "image/png": "[encoded data removed]",
      "text/plain": [
       "<matplotlib.figure.Figure at 0x1121384d0>"
      ]
     },
     "metadata": {},
     "output_type": "display_data"
    }
   ],
   "source": [
    "out.show(\"[O/Fe]-[Fe/H]\")\n",
    "out.show(\"dn/d[o/fE]\")\n",
    "out.show(\"sFr\")"
   ]
  },
  {
   "cell_type": "markdown",
   "metadata": {},
   "source": [
    "If the track in the [O/Fe]-[Fe/H] plane looks odd to you, don't worry! It should look weird. This is because this was ran using the default yield settings, which are user-specified. Now let's turn to how to change them."
   ]
  },
  {
   "cell_type": "markdown",
   "metadata": {},
   "source": [
    "How To Customize Core Collapse Supernovae Yields\n",
    "==\n",
    "Core collapse yields are stored at the global level in VICE. The user can modify their yields directly, specify functions of metallicity, and save default yield settings. When the user would like to save new default yield settings, this can be done by calling vice.ccsne_yields.save_defaults().\n"
   ]
  },
  {
   "cell_type": "code",
   "execution_count": 9,
   "metadata": {
    "collapsed": false
   },
   "outputs": [
    {
     "name": "stdout",
     "output_type": "stream",
     "text": [
      "Default oxygen yield:  0.00564\n",
      "Modified oxygen yield:  0.012\n",
      "Functional oxygen yield:  <function oxygen_yield at 0x11247b1b8>\n",
      "Functional oxygen yield at Z = 0.005:  0.017\n",
      "Back to default oxygen yield:  0.00564\n"
     ]
    }
   ],
   "source": [
    "print(\"Default oxygen yield: \", vice.ccsne_yields['o'])\n",
    "vice.ccsne_yields['o'] = 0.012\n",
    "print(\"Modified oxygen yield: \", vice.ccsne_yields['o'])\n",
    "def oxygen_yield(z):\n",
    "    if z <= 0.0014: \n",
    "        return 0.012\n",
    "    else:\n",
    "        return 0.012 + 0.01 * (z / 0.01)\n",
    "vice.ccsne_yields['o'] = oxygen_yield \n",
    "print(\"Functional oxygen yield: \", vice.ccsne_yields['o'])\n",
    "print(\"Functional oxygen yield at Z = 0.005: \", vice.ccsne_yields['o'](0.005))\n",
    "vice.ccsne_yields.restore_defaults()\n",
    "print(\"Back to default oxygen yield: \", vice.ccsne_yields['o'])"
   ]
  },
  {
   "cell_type": "markdown",
   "metadata": {
    "collapsed": true
   },
   "source": [
    "How to Customize Type Ia Supernovae Yields\n",
    "==\n",
    "Type Ia supernovae yields are also stored at the global level in VICE. The user can modify their yields directly and \n",
    "save default yield settings, but VICE currently does not support functional forms for these yields. When the user would like to save new default yield settings, this can be done by calling vice.sneia_yields.save_defaults(). "
   ]
  },
  {
   "cell_type": "code",
   "execution_count": 10,
   "metadata": {
    "collapsed": false
   },
   "outputs": [
    {
     "name": "stdout",
     "output_type": "stream",
     "text": [
      "Default iron yield:  0.00258\n",
      "Modified iron yield:  0.0017\n",
      "Back to default iron yield:  0.00258\n"
     ]
    }
   ],
   "source": [
    "print(\"Default iron yield: \", vice.sneia_yields[\"fe\"])\n",
    "vice.sneia_yields['fe'] = 0.0017 \n",
    "print(\"Modified iron yield: \", vice.sneia_yields[\"fe\"]) \n",
    "vice.sneia_yields.restore_defaults() \n",
    "print(\"Back to default iron yield: \", vice.sneia_yields[\"fe\"])"
   ]
  },
  {
   "cell_type": "markdown",
   "metadata": {
    "collapsed": true
   },
   "source": [
    "How to Calculate Nucleosynthetic Yields with VICE\n",
    "==\n",
    "VICE has built-in functions for calculating nucleosynthetic yields given the results of previous studies in the literature that commonly appear in chemical evolution codes. The integrator and the yield settings themselves, however, know nothing about these functions - what the user specifies as a yield is what VICE will use as a yield. These functions simply make it easy to calculate them. The user can take the output from these functions and use them as their yield settings if they so choose. "
   ]
  },
  {
   "cell_type": "code",
   "execution_count": 11,
   "metadata": {
    "collapsed": false
   },
   "outputs": [
    {
     "name": "stdout",
     "output_type": "stream",
     "text": [
      "Fractional yield of oxygen according to the Limongi & Chieffi (2018) study at solar metallicity: 5.64e-03\n",
      "Fractional yield of iron according to the Woosley & Weaver (1995) study at 1/10th solar metallicity: 1.28e-03\n"
     ]
    },
    {
     "name": "stderr",
     "output_type": "stream",
     "text": [
      "/Users/astrobeard/anaconda/lib/python2.7/site-packages/ipykernel/__main__.py:4: UserWarning: Supernovae yields from the Woosley & Weaver (1995), ApJ, 101, 181 study are sampled on a grid of stellar masses up to 40 Msun. Employing an upper mass limit larger than this may introduce numerical artifacts. \n"
     ]
    }
   ],
   "source": [
    "print(\"Fractional yield of oxygen according to the Limongi & Chieffi (2018) study at solar metallicity: %.2e\" % (\n",
    "     vice.fractional_cc_yield(\"o\", study = \"LC18\")[0]))\n",
    "print(\"Fractional yield of iron according to the Woosley & Weaver (1995) study at 1/10th solar metallicity: %.2e\" % ( \n",
    "     vice.fractional_cc_yield(\"fe\", study = \"ww95\", MoverH = -1)[0]))"
   ]
  },
  {
   "cell_type": "markdown",
   "metadata": {
    "collapsed": true
   },
   "source": [
    "Asymptotic Giant Branch Star Yields in VICE \n",
    "==\n",
    "Because yields and enrichment patterns from AGB stars (see VICE's science documentation for details) are much more mathematically complex than that of supernovae, VICE unfortunately does not allow much room for customization here. Future updates will address this. In its current state users are restricted to the set of yield tables determined by \n",
    "the Karakas (2010), MNRAS, 403, 1413 and Cristallo et al. (2011), ApJS, 197, 17 studies. Their tables are built into VICE, and the function agb_yield_grid returns the fractional yields on a stellar mass-metallicity grid according to these studies."
   ]
  },
  {
   "cell_type": "code",
   "execution_count": 14,
   "metadata": {
    "collapsed": false
   },
   "outputs": [
    {
     "name": "stdout",
     "output_type": "stream",
     "text": [
      "[[1.49308e-09, 2.90538e-09, 2.32254e-09, 6.00077e-09, 5.57923e-09, 1.06362e-08, 2.75977e-09, 1.60792e-09, 0.0, 0.0], [1.1972e-09, 6.602e-09, 5.88267e-09, 1.51227e-08, 1.8252e-08, 4.83933e-08, 4.59267e-08, 6.62133e-08, 6.91667e-08, 5.88067e-08], [1.65915e-09, 4.049e-09, 1.806e-08, 3.5945e-08, 5.8725e-08, 1.613e-07, 1.921e-07, 2.5705e-07, 2.905e-07, 3.5485e-07], [2.2304e-09, 2.2884e-09, 1.25676e-08, 2.6092e-08, 6.0148e-08, 2.4048e-07, 3.5096e-07, 4.406e-07, 5.3988e-07, 6.576e-07], [3.276e-09, 4.95971e-09, 1.02313e-08, 1.937e-08, 2.10133e-08, 7.327e-08, 1.69567e-07, 2.50733e-07, 3.758e-07, 5.44667e-07], [4.94532e-09, 3.20847e-09, 5.32656e-09, 6.1428e-09, 1.11026e-08, 4.71001e-08, 2.19275e-08, 3.2675e-08, 4.5595e-08, 1.19675e-07], [4.68531e-09, 3.33222e-09, 3.63889e-09, 3.76753e-09, 3.84565e-09, 6.29203e-09, 1.117e-08, 1.0644e-08, 1.1176e-08, 1.2814e-08], [1.01872e-09, 1.77472e-09, 3.24218e-09, 1.83307e-09, 7.49519e-10, 1.78069e-09, 3.18186e-09, 4.84924e-09, 3.98567e-09, 4.28333e-09]]\n",
      "[1.3, 1.5, 2.0, 2.5, 3.0, 4.0, 5.0, 6.0]\n",
      "[0.0001, 0.0003, 0.001, 0.002, 0.003, 0.006, 0.008, 0.01, 0.014, 0.02]\n",
      "Fractional yield of strontium at M = 2 Msun and Z = 0.008: 1.92e-07\n"
     ]
    }
   ],
   "source": [
    "y, m, z = vice.agb_yield_grid(\"sr\")\n",
    "print(y)\n",
    "print(m)\n",
    "print(z)\n",
    "print(\"Fractional yield of strontium at M = 2 Msun and Z = 0.008: %.2e\" % (y[2][6]))"
   ]
  },
  {
   "cell_type": "markdown",
   "metadata": {},
   "source": [
    "Single Stellar Populations\n",
    "==\n",
    "Many chemical evolution studies are concerned with the rate of mass production of a given element with time from only one stellar population. Whatever happens to those metals once produced (diluted by inflows, ejected in the outflow, etc.) is not necessarily of interest. For this reason, VICE includes the function single_stellar_population, which determines the mass of a given element at timesteps following the formation of a stellar population with given initial mass and metallicity. "
   ]
  },
  {
   "cell_type": "code",
   "execution_count": 18,
   "metadata": {
    "collapsed": false
   },
   "outputs": [
    {
     "name": "stdout",
     "output_type": "stream",
     "text": [
      "Mass yield of iron in Msun at 10 Gyr after the formation of a 10^4 Msun stellar population with metallicity \n",
      "Z = 0.01: 2.68e+01\n",
      "Mass yield of strontium in Msun 8.5 Gyr after the formation of a single stellar population with metallicity \n",
      "Z = 0.007: 4.38e-04\n"
     ]
    }
   ],
   "source": [
    "mass, time = vice.single_stellar_population(\"fe\", mstar = 1e4, Z = 0.01, time = 10)\n",
    "print(\"\"\"Mass yield of iron in Msun at 10 Gyr after the formation of a 10^4 Msun stellar population with metallicity \n",
    "Z = 0.01: %.2e\"\"\" % (mass[-1])) \n",
    "mass, time = vice.single_stellar_population(\"sr\", mstar = 1e4, Z = 0.007, time = 8.5)\n",
    "print(\"\"\"Mass yield of strontium in Msun 8.5 Gyr after the formation of a single stellar population with metallicity \n",
    "Z = 0.007: %.2e\"\"\" % (mass[-1]))"
   ]
  },
  {
   "cell_type": "markdown",
   "metadata": {},
   "source": [
    "Other Useful Features\n",
    "==\n",
    "VICE includes three more dataframes included primarily for user convenience. Their names are solar_z, atomic_number, and sources, and they encode the solar abundance by mass as determined by Asplund et al. (2009), ARA&A, 47, 481, the atomic number, and the dominant enrichment channels that astronomers believe produce each element. Unlike other VICE dataframes, they do not allow user customization. The only one that influences VICE's simulations is the solar_z dataframe. "
   ]
  },
  {
   "cell_type": "code",
   "execution_count": 11,
   "metadata": {
    "collapsed": false
   },
   "outputs": [
    {
     "name": "stdout",
     "output_type": "stream",
     "text": [
      "The solar abundance of oxygen: 5.72e-03\n",
      "The solar abundance of iron: 1.29e-03\n",
      "The atomic number of nickel: 28\n",
      "The dominant enrichment sources of calcium:  ['CCSNE', 'SNEIA']\n"
     ]
    }
   ],
   "source": [
    "print(\"The solar abundance of oxygen: %.2e\" % (vice.solar_z[\"o\"]))\n",
    "print(\"The solar abundance of iron: %.2e\" % (vice.solar_z[\"fe\"])) \n",
    "print(\"The atomic number of nickel: %d\" % (vice.atomic_number[\"ni\"]))\n",
    "print(\"The dominant enrichment sources of calcium: \", vice.sources[\"ca\"])"
   ]
  },
  {
   "cell_type": "code",
   "execution_count": null,
   "metadata": {
    "collapsed": true
   },
   "outputs": [],
   "source": []
  }
 ],
 "metadata": {
  "kernelspec": {
   "display_name": "Python 2",
   "language": "python",
   "name": "python2"
  },
  "language_info": {
   "codemirror_mode": {
    "name": "ipython",
    "version": 2
   },
   "file_extension": ".py",
   "mimetype": "text/x-python",
   "name": "python",
   "nbconvert_exporter": "python",
   "pygments_lexer": "ipython2",
   "version": "2.7.13"
  }
 },
 "nbformat": 4,
 "nbformat_minor": 2
}
