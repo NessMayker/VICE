{
 "cells": [
  {
   "cell_type": "markdown",
   "metadata": {},
   "source": [
    "Quick Start Tutorial\n",
    "==\n",
    "This is intended to show users how to get VICE up and running to answer their research questions as quickly as possible. VICE makes it trivially easy for users to specify their own nucleosynthetic yields for various elements from core-collapse and type Ia supernovae, gas outflows, outflow metallicities, delay-time distributions for type Ia supernovae, star formation efficiencies, and inflow metallicities. This is only a sample of the parameters the user can customize in VICE; specifically they are the ones which the user can set to an arbitrary mathematical function. They will be interpreted as functions of time in Gyr or metallicity Z, depending on the parameter. In this way, VICE achieves the capability of simulating one-zone models of galactic chemical enrichment for arbitrarily complex parameters. \n",
    "\n",
    "We'll start with the most scientifically powerful features, in particular the integrator, which runs the simulations. "
   ]
  },
  {
   "cell_type": "code",
   "execution_count": 1,
   "metadata": {
    "collapsed": false
   },
   "outputs": [
    {
     "name": "stdout",
     "output_type": "stream",
     "text": [
      "Current Parameters:\n",
      "===================\n",
      "Name: onezonemodel\n",
      "Func: <function _DEFAULT_FUNC at 0x10b6e9f50>\n",
      "Mode: ifr\n",
      "IMF: kroupa\n",
      "Elements: (u'fe', u'sr', u'o')\n",
      "Eta: 2.5\n",
      "Enhancement: 1.0\n",
      "Recycling: continuous\n",
      "Bins: [-3.000000, -2.990000, -2.980000, ... , 0.980000, 0.990000, 1.000000]\n",
      "Delay: 0.15 Gyr\n",
      "DTD: plaw\n",
      "Mg0: 6.000000e+09 Msun\n",
      "Smoothing: 0 Gyr\n",
      "Tau_Ia: 1.5 Gyr\n",
      "Tau_star: 2 Gyr\n",
      "Dt: 0.001 Gyr\n",
      "Schmidt: False\n",
      "Schmidt index: 0.5\n",
      "MgSchmidt: 6.000000e+09\n",
      "Zin: 0.0\n",
      "M_upper: 100 Msun\n",
      "M_lower: 0.08 Msun\n",
      "Z_solar: 0.014\n",
      "AGB model: cristallo11\n"
     ]
    }
   ],
   "source": [
    "from __future__ import print_function \n",
    "import vice \n",
    "intgtr = vice.integrator()\n",
    "intgtr.settings() # Just prints the current settings"
   ]
  },
  {
   "cell_type": "markdown",
   "metadata": {},
   "source": [
    "Each integrator has attributes which encode the evolutionary parameters that the user would like to simulate the enrichment of. Here is a quick breakdown of each property:\n",
    "\n",
    "    name: The output of the simulation will be stored in a directory under this name \n",
    "    func: A callable Python function/method/routine. This is interpreted as being f(t) where t is time in Gyr. \n",
    "    mode: The interpretation of 'func'. \n",
    "        ifr: f(t) returns the infall rate in Msun yr^-1 \n",
    "        sfr: f(t) returns the star formation rate in Msun yr^-1 \n",
    "        gas: f(t) returns the mass of the ISM gas in Msun \n",
    "    IMF: the stellar initial mass function to assume. In it's current version, VICE only recognizes \n",
    "        Kroupa and Salpeter. \n",
    "    elements: The elements to simulate the enrichment for. In it's current version, VICE only recognizes oxygen, \n",
    "        iron, and strontium. There will be an update soon to include functionality for a much wider sample of \n",
    "        elements. We have already formatted yield tables for carbon, nitrogen, neon, magnesium, silicon, sulfur, \n",
    "        argon, yttrium, lanthanum, barium, and europium. \n",
    "    eta: The mass loading factor relating the outflow rate to the star formation rate. This parameter can be a \n",
    "        callable function of time in Gyr as well. \n",
    "    enhancement: The ratio of the outflow metallicity to that of the ISM metallicity. This can also be a callable \n",
    "        function of time in Gyr. \n",
    "    recycling: The mass recycling prescription. By default, VICE implements an treatment which integrates the IMF \n",
    "        weighted by the masses of stellar remnants as modeled by Kalirai et al. (2008), ApJ, 676, 594. \n",
    "    "
   ]
  },
  {
   "cell_type": "markdown",
   "metadata": {},
   "source": [
    "How To Customize Core Collapse Supernovae Yields\n",
    "==\n",
    "Core collapse yields are stored at the global level in VICE. The user can modify their fields directly, specify functions of metallicity, and save default yield settings. \n"
   ]
  },
  {
   "cell_type": "code",
   "execution_count": 4,
   "metadata": {
    "collapsed": false
   },
   "outputs": [
    {
     "name": "stdout",
     "output_type": "stream",
     "text": [
      "Default oxygen yield:  0.015\n",
      "Modified oxygen yield:  0.012\n",
      "Functional oxygen yield:  <function <lambda> at 0x112b6dc80>\n",
      "Oxygen yield at Z = 0.001:  0.012\n",
      "New oxygen yield:  0.015\n"
     ]
    }
   ],
   "source": [
    "print(\"Default oxygen yield: \", vice.ccsne_yields['o'])\n",
    "vice.ccsne_yields['o'] = 0.012\n",
    "print(\"Modified oxygen yield: \", vice.ccsne_yields['o'])\n",
    "vice.ccsne_yields['o'] = lambda z: 0.012 if z < 0.0014 else 0.012 + 0.03 * (z/0.014) \n",
    "print(\"Functional oxygen yield: \", vice.ccsne_yields['o'])\n",
    "print(\"Oxygen yield at Z = 0.001: \", vice.ccsne_yields['o'](0.001))\n",
    "# Current yields are now what they will be set to when VICE is imported \n",
    "vice.ccsne_yields.save_defaults() \n",
    "# Sets the current yields back to their factory settings regardless of current defaults \n",
    "vice.ccsne_yields.factory_settings() \n",
    "print(\"New oxygen yield: \", vice.ccsne_yields['o'])\n",
    "# Saves the defaults back to the factory settings\n",
    "vice.ccsne_yields.save_defaults()"
   ]
  },
  {
   "cell_type": "code",
   "execution_count": null,
   "metadata": {
    "collapsed": true
   },
   "outputs": [],
   "source": []
  }
 ],
 "metadata": {
  "kernelspec": {
   "display_name": "Python 2",
   "language": "python",
   "name": "python2"
  },
  "language_info": {
   "codemirror_mode": {
    "name": "ipython",
    "version": 2
   },
   "file_extension": ".py",
   "mimetype": "text/x-python",
   "name": "python",
   "nbconvert_exporter": "python",
   "pygments_lexer": "ipython2",
   "version": "2.7.13"
  }
 },
 "nbformat": 4,
 "nbformat_minor": 2
}
